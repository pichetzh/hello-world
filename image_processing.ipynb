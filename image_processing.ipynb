{
  "nbformat": 4,
  "nbformat_minor": 0,
  "metadata": {
    "colab": {
      "name": "image_processing.ipynb",
      "version": "0.3.2",
      "provenance": [],
      "private_outputs": true,
      "include_colab_link": true
    },
    "kernelspec": {
      "name": "python3",
      "display_name": "Python 3"
    }
  },
  "cells": [
    {
      "cell_type": "markdown",
      "metadata": {
        "id": "view-in-github",
        "colab_type": "text"
      },
      "source": [
        "<a href=\"https://colab.research.google.com/github/pichetzh/hello-world/blob/master/image_processing.ipynb\" target=\"_parent\"><img src=\"https://colab.research.google.com/assets/colab-badge.svg\" alt=\"Open In Colab\"/></a>"
      ]
    },
    {
      "cell_type": "code",
      "metadata": {
        "id": "SONYYKwkHCiR",
        "colab_type": "code",
        "colab": {}
      },
      "source": [
        "# mount google drive\n",
        "from google.colab import drive\n",
        "\n",
        "ROOT = \"/content/_gdrive\"\n",
        "drive.mount(ROOT, force_remount=True)"
      ],
      "execution_count": 0,
      "outputs": []
    },
    {
      "cell_type": "code",
      "metadata": {
        "id": "fekGeIPBHHLN",
        "colab_type": "code",
        "colab": {}
      },
      "source": [
        "\n",
        "# extract master file\n",
        "\n",
        "import os\n",
        "#from os.path import join\n",
        "#import zipfile\n",
        "\n",
        "COLAB_PATH = '/content/_gdrive/My Drive/_colab'"
      ],
      "execution_count": 0,
      "outputs": []
    }
  ]
}